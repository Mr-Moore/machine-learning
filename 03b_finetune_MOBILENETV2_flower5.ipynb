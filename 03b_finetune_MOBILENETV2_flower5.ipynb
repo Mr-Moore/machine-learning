{
  "nbformat": 4,
  "nbformat_minor": 0,
  "metadata": {
    "colab": {
      "provenance": [],
      "authorship_tag": "ABX9TyMwD60RBSYliSlP6vTXV7vO",
      "include_colab_link": true
    },
    "kernelspec": {
      "name": "python3",
      "display_name": "Python 3"
    },
    "language_info": {
      "name": "python"
    }
  },
  "cells": [
    {
      "cell_type": "markdown",
      "metadata": {
        "id": "view-in-github",
        "colab_type": "text"
      },
      "source": [
        "<a href=\"https://colab.research.google.com/github/Mr-Moore/machine-learning/blob/main/03b_finetune_MOBILENETV2_flower5.ipynb\" target=\"_parent\"><img src=\"https://colab.research.google.com/assets/colab-badge.svg\" alt=\"Open In Colab\"/></a>"
      ]
    },
    {
      "cell_type": "code",
      "execution_count": null,
      "metadata": {
        "id": "Hbzz5tu0wCwm",
        "colab": {
          "base_uri": "https://localhost:8080/"
        },
        "outputId": "8208954e-9b3d-43ca-fab6-bcac049932cc"
      },
      "outputs": [
        {
          "output_type": "stream",
          "name": "stdout",
          "text": [
            "Looking in indexes: https://pypi.org/simple, https://us-python.pkg.dev/colab-wheels/public/simple/\n",
            "Collecting git+https://github.com/OverLordGoldDragon/keras-adamw\n",
            "  Cloning https://github.com/OverLordGoldDragon/keras-adamw to /tmp/pip-req-build-x56eih2t\n",
            "  Running command git clone --filter=blob:none --quiet https://github.com/OverLordGoldDragon/keras-adamw /tmp/pip-req-build-x56eih2t\n",
            "  Resolved https://github.com/OverLordGoldDragon/keras-adamw to commit 017d3e8ac6eadd40306710bd42aad7328af5083f\n",
            "  Preparing metadata (setup.py) ... \u001b[?25l\u001b[?25hdone\n",
            "Requirement already satisfied: numpy in /usr/local/lib/python3.9/dist-packages (from keras-adamw==1.38) (1.22.4)\n",
            "Requirement already satisfied: tensorflow in /usr/local/lib/python3.9/dist-packages (from keras-adamw==1.38) (2.12.0)\n",
            "Requirement already satisfied: packaging in /usr/local/lib/python3.9/dist-packages (from tensorflow->keras-adamw==1.38) (23.0)\n",
            "Requirement already satisfied: flatbuffers>=2.0 in /usr/local/lib/python3.9/dist-packages (from tensorflow->keras-adamw==1.38) (23.3.3)\n",
            "Requirement already satisfied: astunparse>=1.6.0 in /usr/local/lib/python3.9/dist-packages (from tensorflow->keras-adamw==1.38) (1.6.3)\n",
            "Requirement already satisfied: google-pasta>=0.1.1 in /usr/local/lib/python3.9/dist-packages (from tensorflow->keras-adamw==1.38) (0.2.0)\n",
            "Requirement already satisfied: protobuf!=4.21.0,!=4.21.1,!=4.21.2,!=4.21.3,!=4.21.4,!=4.21.5,<5.0.0dev,>=3.20.3 in /usr/local/lib/python3.9/dist-packages (from tensorflow->keras-adamw==1.38) (3.20.3)\n",
            "Requirement already satisfied: jax>=0.3.15 in /usr/local/lib/python3.9/dist-packages (from tensorflow->keras-adamw==1.38) (0.4.7)\n",
            "Requirement already satisfied: opt-einsum>=2.3.2 in /usr/local/lib/python3.9/dist-packages (from tensorflow->keras-adamw==1.38) (3.3.0)\n",
            "Requirement already satisfied: grpcio<2.0,>=1.24.3 in /usr/local/lib/python3.9/dist-packages (from tensorflow->keras-adamw==1.38) (1.53.0)\n",
            "Requirement already satisfied: gast<=0.4.0,>=0.2.1 in /usr/local/lib/python3.9/dist-packages (from tensorflow->keras-adamw==1.38) (0.4.0)\n",
            "Requirement already satisfied: libclang>=13.0.0 in /usr/local/lib/python3.9/dist-packages (from tensorflow->keras-adamw==1.38) (16.0.0)\n",
            "Requirement already satisfied: typing-extensions>=3.6.6 in /usr/local/lib/python3.9/dist-packages (from tensorflow->keras-adamw==1.38) (4.5.0)\n",
            "Requirement already satisfied: tensorboard<2.13,>=2.12 in /usr/local/lib/python3.9/dist-packages (from tensorflow->keras-adamw==1.38) (2.12.0)\n",
            "Requirement already satisfied: absl-py>=1.0.0 in /usr/local/lib/python3.9/dist-packages (from tensorflow->keras-adamw==1.38) (1.4.0)\n",
            "Requirement already satisfied: keras<2.13,>=2.12.0 in /usr/local/lib/python3.9/dist-packages (from tensorflow->keras-adamw==1.38) (2.12.0)\n",
            "Requirement already satisfied: h5py>=2.9.0 in /usr/local/lib/python3.9/dist-packages (from tensorflow->keras-adamw==1.38) (3.8.0)\n",
            "Requirement already satisfied: tensorflow-estimator<2.13,>=2.12.0 in /usr/local/lib/python3.9/dist-packages (from tensorflow->keras-adamw==1.38) (2.12.0)\n",
            "Requirement already satisfied: wrapt<1.15,>=1.11.0 in /usr/local/lib/python3.9/dist-packages (from tensorflow->keras-adamw==1.38) (1.14.1)\n",
            "Requirement already satisfied: six>=1.12.0 in /usr/local/lib/python3.9/dist-packages (from tensorflow->keras-adamw==1.38) (1.16.0)\n",
            "Requirement already satisfied: tensorflow-io-gcs-filesystem>=0.23.1 in /usr/local/lib/python3.9/dist-packages (from tensorflow->keras-adamw==1.38) (0.32.0)\n",
            "Requirement already satisfied: termcolor>=1.1.0 in /usr/local/lib/python3.9/dist-packages (from tensorflow->keras-adamw==1.38) (2.2.0)\n",
            "Requirement already satisfied: setuptools in /usr/local/lib/python3.9/dist-packages (from tensorflow->keras-adamw==1.38) (67.6.1)\n",
            "Requirement already satisfied: wheel<1.0,>=0.23.0 in /usr/local/lib/python3.9/dist-packages (from astunparse>=1.6.0->tensorflow->keras-adamw==1.38) (0.40.0)\n",
            "Requirement already satisfied: scipy>=1.7 in /usr/local/lib/python3.9/dist-packages (from jax>=0.3.15->tensorflow->keras-adamw==1.38) (1.10.1)\n",
            "Requirement already satisfied: ml-dtypes>=0.0.3 in /usr/local/lib/python3.9/dist-packages (from jax>=0.3.15->tensorflow->keras-adamw==1.38) (0.0.4)\n",
            "Requirement already satisfied: werkzeug>=1.0.1 in /usr/local/lib/python3.9/dist-packages (from tensorboard<2.13,>=2.12->tensorflow->keras-adamw==1.38) (2.2.3)\n",
            "Requirement already satisfied: google-auth-oauthlib<0.5,>=0.4.1 in /usr/local/lib/python3.9/dist-packages (from tensorboard<2.13,>=2.12->tensorflow->keras-adamw==1.38) (0.4.6)\n",
            "Requirement already satisfied: tensorboard-data-server<0.8.0,>=0.7.0 in /usr/local/lib/python3.9/dist-packages (from tensorboard<2.13,>=2.12->tensorflow->keras-adamw==1.38) (0.7.0)\n",
            "Requirement already satisfied: google-auth<3,>=1.6.3 in /usr/local/lib/python3.9/dist-packages (from tensorboard<2.13,>=2.12->tensorflow->keras-adamw==1.38) (2.17.0)\n",
            "Requirement already satisfied: markdown>=2.6.8 in /usr/local/lib/python3.9/dist-packages (from tensorboard<2.13,>=2.12->tensorflow->keras-adamw==1.38) (3.4.3)\n",
            "Requirement already satisfied: tensorboard-plugin-wit>=1.6.0 in /usr/local/lib/python3.9/dist-packages (from tensorboard<2.13,>=2.12->tensorflow->keras-adamw==1.38) (1.8.1)\n",
            "Requirement already satisfied: requests<3,>=2.21.0 in /usr/local/lib/python3.9/dist-packages (from tensorboard<2.13,>=2.12->tensorflow->keras-adamw==1.38) (2.27.1)\n",
            "Requirement already satisfied: rsa<5,>=3.1.4 in /usr/local/lib/python3.9/dist-packages (from google-auth<3,>=1.6.3->tensorboard<2.13,>=2.12->tensorflow->keras-adamw==1.38) (4.9)\n",
            "Requirement already satisfied: pyasn1-modules>=0.2.1 in /usr/local/lib/python3.9/dist-packages (from google-auth<3,>=1.6.3->tensorboard<2.13,>=2.12->tensorflow->keras-adamw==1.38) (0.2.8)\n",
            "Requirement already satisfied: cachetools<6.0,>=2.0.0 in /usr/local/lib/python3.9/dist-packages (from google-auth<3,>=1.6.3->tensorboard<2.13,>=2.12->tensorflow->keras-adamw==1.38) (5.3.0)\n",
            "Requirement already satisfied: requests-oauthlib>=0.7.0 in /usr/local/lib/python3.9/dist-packages (from google-auth-oauthlib<0.5,>=0.4.1->tensorboard<2.13,>=2.12->tensorflow->keras-adamw==1.38) (1.3.1)\n",
            "Requirement already satisfied: importlib-metadata>=4.4 in /usr/local/lib/python3.9/dist-packages (from markdown>=2.6.8->tensorboard<2.13,>=2.12->tensorflow->keras-adamw==1.38) (6.1.0)\n",
            "Requirement already satisfied: idna<4,>=2.5 in /usr/local/lib/python3.9/dist-packages (from requests<3,>=2.21.0->tensorboard<2.13,>=2.12->tensorflow->keras-adamw==1.38) (3.4)\n",
            "Requirement already satisfied: charset-normalizer~=2.0.0 in /usr/local/lib/python3.9/dist-packages (from requests<3,>=2.21.0->tensorboard<2.13,>=2.12->tensorflow->keras-adamw==1.38) (2.0.12)\n",
            "Requirement already satisfied: certifi>=2017.4.17 in /usr/local/lib/python3.9/dist-packages (from requests<3,>=2.21.0->tensorboard<2.13,>=2.12->tensorflow->keras-adamw==1.38) (2022.12.7)\n",
            "Requirement already satisfied: urllib3<1.27,>=1.21.1 in /usr/local/lib/python3.9/dist-packages (from requests<3,>=2.21.0->tensorboard<2.13,>=2.12->tensorflow->keras-adamw==1.38) (1.26.15)\n",
            "Requirement already satisfied: MarkupSafe>=2.1.1 in /usr/local/lib/python3.9/dist-packages (from werkzeug>=1.0.1->tensorboard<2.13,>=2.12->tensorflow->keras-adamw==1.38) (2.1.2)\n",
            "Requirement already satisfied: zipp>=0.5 in /usr/local/lib/python3.9/dist-packages (from importlib-metadata>=4.4->markdown>=2.6.8->tensorboard<2.13,>=2.12->tensorflow->keras-adamw==1.38) (3.15.0)\n",
            "Requirement already satisfied: pyasn1<0.5.0,>=0.4.6 in /usr/local/lib/python3.9/dist-packages (from pyasn1-modules>=0.2.1->google-auth<3,>=1.6.3->tensorboard<2.13,>=2.12->tensorflow->keras-adamw==1.38) (0.4.8)\n",
            "Requirement already satisfied: oauthlib>=3.0.0 in /usr/local/lib/python3.9/dist-packages (from requests-oauthlib>=0.7.0->google-auth-oauthlib<0.5,>=0.4.1->tensorboard<2.13,>=2.12->tensorflow->keras-adamw==1.38) (3.2.2)\n",
            "Building wheels for collected packages: keras-adamw\n",
            "  Building wheel for keras-adamw (setup.py) ... \u001b[?25l\u001b[?25hdone\n",
            "  Created wheel for keras-adamw: filename=keras_adamw-1.38-py3-none-any.whl size=29523 sha256=0492be6450eab4d47b8147b0ad9f4b0d606810315678f519c848573014908af2\n",
            "  Stored in directory: /tmp/pip-ephem-wheel-cache-7e4czc5d/wheels/68/3c/a5/46d0eac3ed4d5ce267aea0b79f5e5bcc3d2c525092f78f64d0\n",
            "Successfully built keras-adamw\n",
            "Installing collected packages: keras-adamw\n",
            "Successfully installed keras-adamw-1.38\n"
          ]
        }
      ],
      "source": [
        "pip install git+https://github.com/OverLordGoldDragon/keras-adamw"
      ]
    },
    {
      "cell_type": "code",
      "source": [
        "pip install tensorflow-addons"
      ],
      "metadata": {
        "colab": {
          "base_uri": "https://localhost:8080/"
        },
        "id": "Nw_QzHp_S7Ok",
        "outputId": "a8f90ad5-bb70-4bac-a76a-2e96f875411c"
      },
      "execution_count": null,
      "outputs": [
        {
          "output_type": "stream",
          "name": "stdout",
          "text": [
            "Looking in indexes: https://pypi.org/simple, https://us-python.pkg.dev/colab-wheels/public/simple/\n",
            "Collecting tensorflow-addons\n",
            "  Downloading tensorflow_addons-0.19.0-cp39-cp39-manylinux_2_17_x86_64.manylinux2014_x86_64.whl (1.1 MB)\n",
            "\u001b[2K     \u001b[90m━━━━━━━━━━━━━━━━━━━━━━━━━━━━━━━━━━━━━━━━\u001b[0m \u001b[32m1.1/1.1 MB\u001b[0m \u001b[31m15.9 MB/s\u001b[0m eta \u001b[36m0:00:00\u001b[0m\n",
            "\u001b[?25hRequirement already satisfied: packaging in /usr/local/lib/python3.9/dist-packages (from tensorflow-addons) (23.0)\n",
            "Collecting typeguard>=2.7\n",
            "  Downloading typeguard-3.0.2-py3-none-any.whl (30 kB)\n",
            "Requirement already satisfied: typing-extensions>=4.4.0 in /usr/local/lib/python3.9/dist-packages (from typeguard>=2.7->tensorflow-addons) (4.5.0)\n",
            "Requirement already satisfied: importlib-metadata>=3.6 in /usr/local/lib/python3.9/dist-packages (from typeguard>=2.7->tensorflow-addons) (6.1.0)\n",
            "Requirement already satisfied: zipp>=0.5 in /usr/local/lib/python3.9/dist-packages (from importlib-metadata>=3.6->typeguard>=2.7->tensorflow-addons) (3.15.0)\n",
            "Installing collected packages: typeguard, tensorflow-addons\n",
            "Successfully installed tensorflow-addons-0.19.0 typeguard-3.0.2\n"
          ]
        }
      ]
    },
    {
      "cell_type": "code",
      "source": [
        "import IPython\n",
        "\n",
        "IPython.Application.instance().kernel.do_shutdown(True)"
      ],
      "metadata": {
        "colab": {
          "base_uri": "https://localhost:8080/"
        },
        "id": "MoEcDSPJtyNS",
        "outputId": "1a25cd58-16c2-4b9b-b9b7-64fe54b55507"
      },
      "execution_count": null,
      "outputs": [
        {
          "output_type": "execute_result",
          "data": {
            "text/plain": [
              "{'status': 'ok', 'restart': True}"
            ]
          },
          "metadata": {},
          "execution_count": 1
        }
      ]
    },
    {
      "cell_type": "code",
      "source": [
        "import math, re, os, sys\n",
        "import tensorflow as tf\n",
        "# import tensorflow_addons as tfa\n",
        "import numpy as np\n",
        "from matplotlib import pyplot as plt\n",
        "from sklearn.metrics import f1_score, precision_score, recall_score, confusion_matrix\n",
        "print(\"Tensorflow version\" + tf.__version__)\n",
        "AUTO = tf.data.experimental.AUTOTUNE"
      ],
      "metadata": {
        "colab": {
          "base_uri": "https://localhost:8080/"
        },
        "id": "_E4fb5gsuHgL",
        "outputId": "21ff479e-b20c-4fbf-96b1-73e1dde8f348"
      },
      "execution_count": null,
      "outputs": [
        {
          "output_type": "stream",
          "name": "stdout",
          "text": [
            "Tensorflow version2.12.0\n"
          ]
        }
      ]
    },
    {
      "cell_type": "code",
      "source": [
        "# Warning! This call has to come before *any* Tensorflow calls.\n",
        "# If you get errors about Adamw not being found, restart the kernal and start from previous cell.\n",
        "# 通過os.environ獲取、設置、刪除環境變數，什麼是環境變數呢？ 環境變數是程式和作業系統之間的通信方式。\n",
        "\n",
        "os.environ['TF_KERAS'] = '1'\n",
        "from keras_adamw import AdamW"
      ],
      "metadata": {
        "id": "-DqmeScZvC5e",
        "colab": {
          "base_uri": "https://localhost:8080/",
          "height": 340
        },
        "outputId": "6d5b3952-d355-4411-e095-55350e0a04b8"
      },
      "execution_count": null,
      "outputs": [
        {
          "output_type": "error",
          "ename": "ModuleNotFoundError",
          "evalue": "ignored",
          "traceback": [
            "\u001b[0;31m---------------------------------------------------------------------------\u001b[0m",
            "\u001b[0;31mModuleNotFoundError\u001b[0m                       Traceback (most recent call last)",
            "\u001b[0;32m<ipython-input-3-11eadccde499>\u001b[0m in \u001b[0;36m<cell line: 6>\u001b[0;34m()\u001b[0m\n\u001b[1;32m      4\u001b[0m \u001b[0;34m\u001b[0m\u001b[0m\n\u001b[1;32m      5\u001b[0m \u001b[0mos\u001b[0m\u001b[0;34m.\u001b[0m\u001b[0menviron\u001b[0m\u001b[0;34m[\u001b[0m\u001b[0;34m'TF_KERAS'\u001b[0m\u001b[0;34m]\u001b[0m \u001b[0;34m=\u001b[0m \u001b[0;34m'1'\u001b[0m\u001b[0;34m\u001b[0m\u001b[0;34m\u001b[0m\u001b[0m\n\u001b[0;32m----> 6\u001b[0;31m \u001b[0;32mfrom\u001b[0m \u001b[0mkeras_adamw\u001b[0m \u001b[0;32mimport\u001b[0m \u001b[0mAdamW\u001b[0m\u001b[0;34m\u001b[0m\u001b[0;34m\u001b[0m\u001b[0m\n\u001b[0m",
            "\u001b[0;31mModuleNotFoundError\u001b[0m: No module named 'keras_adamw'",
            "",
            "\u001b[0;31m---------------------------------------------------------------------------\u001b[0;32m\nNOTE: If your import is failing due to a missing package, you can\nmanually install dependencies using either !pip or !apt.\n\nTo view examples of installing some common dependencies, click the\n\"Open Examples\" button below.\n\u001b[0;31m---------------------------------------------------------------------------\u001b[0m\n"
          ],
          "errorDetails": {
            "actions": [
              {
                "action": "open_url",
                "actionText": "Open Examples",
                "url": "/notebooks/snippets/importing_libraries.ipynb"
              }
            ]
          }
        }
      ]
    },
    {
      "cell_type": "code",
      "source": [
        "'''tf.distribute.MirroredStrategy supports synchronous distributed training on multiple GPUs on one machine.\n",
        "    It creates one replica per GPU device. Each variable in the model is mirrored across all the replicas. '''\n",
        "\n",
        "'''ClusterResolvers are a way for TensorFlow to communicate with various cluster management systems\n",
        " (e.g. GCE, AWS, etc...) and gives TensorFlow necessary information to set up distributed training(分散式訓練)'''\n",
        "\n",
        "# tf.distribute.TPUStrategy Synchronous training on TPUs and TPU Pods.\n",
        "# 張量處理單元（英文：Tensor Processing Unit，簡稱：TPU）專門用於加速機器學習.\n",
        "# https://www.tensorflow.org/api_docs/python/tf/distribute/cluster_resolver/TPUClusterResolver\n",
        "\n",
        "try: # detect TPUs\n",
        "  tpu = tf.distribute.cluster_resolver.TPUClusterResolver.connect()\n",
        "  strategy = tf.distribute.TPUStrategy(tpu)\n",
        "except ValueError: # detcet GPUs or multi-GPU machines\n",
        "  strategy = tf.distribute.MirroredStrategy()\n",
        "\n",
        "print(\"REPLCAS: \", strategy.num_replicas_in_sync)"
      ],
      "metadata": {
        "colab": {
          "base_uri": "https://localhost:8080/"
        },
        "id": "NSS8_mw-wlvB",
        "outputId": "4f347a11-8ab9-4b7b-d08c-f1b66d298025"
      },
      "execution_count": null,
      "outputs": [
        {
          "output_type": "stream",
          "name": "stderr",
          "text": [
            "WARNING:tensorflow:There are non-GPU devices in `tf.distribute.Strategy`, not using nccl allreduce.\n"
          ]
        },
        {
          "output_type": "stream",
          "name": "stdout",
          "text": [
            "REPLCAS:  1\n"
          ]
        }
      ]
    },
    {
      "cell_type": "code",
      "source": [
        "GCS_DS_PATH = \"gs://practical-ml-vision-book/flowers_5_tfr\"\n",
        "\n",
        "# Settings for TPUv3. When running on hardware with less memory such as a TPUv2 (Colab)\n",
        "# or a GPU, you might have to use lower BATCH_SIZE and/or IMAGE_SIZE values.\n",
        "\n",
        "IMAGE_SIZE = [224, 224] # available image size in flowers104 dataset: 512x512, 331x331, 224x224, 192x192\n",
        "EPOCHS = 13\n",
        "\n",
        "'''Traditional learning rate schedule don't have warm-up ramp'''\n",
        "\n",
        "''' Why do BATCH_SIZE = 16 * strategy_num_replicas_in_sync?\n",
        "This needs to be done because after the gradients are calculated on each replica,\n",
        "they are synced across the replicas by summing them to calculate loss.\n",
        "Additional: https://www.tensorflow.org/tutorials/distribute/custom_training#define_the_loss_function '''\n",
        "\n",
        "# Learning rate schedule for \"fine-tuning\": use trainable=True (best validation accuracy 0.91)\n",
        "#RAMPUP 預熱斜坡 DECAY 下降曲線率\n",
        "#BATCH_SIZE = 16 * strategy_num_replicas_in_sync\n",
        "#LR_START = 0.00001\n",
        "#LR_MAX = 0.000025 * strategy_num_replicas_in_sync\n",
        "#LR_MIN = 0.00001\n",
        "#LR_RAMPUP_EPOCHS = 3\n",
        "#LR_SUSTAIN_EPOCHS = 1\n",
        "#LR_EXP_DECAY = .8\n",
        "\n",
        "# Learning rate schedule for \"fine-tuning with Adamw\": use trainable=True (best validation accuracy 0.92)\n",
        "BATCH_SIZE = 8 * strategy.num_replicas_in_sync\n",
        "LR_START = 0.00001\n",
        "LR_MAX = 0.0001 * strategy.num_replicas_in_sync\n",
        "LR_MIN = 0.00001\n",
        "LR_RAMPUP_EPOCHS = 3\n",
        "LR_SUSTAIN_EPOCHS = 0\n",
        "LR_EXP_DECAY = .8\n",
        "\n",
        "# Learning rate schedule for \"transfer learning\": use trainable=False (best validation accuracy 0.90)\n",
        "#BATCH_SIZE = 16 * strategy_num_replicas_in_sync\n",
        "#LR_START = 0.00001\n",
        "#LR_MAX = 0.00075 * strategy_num_replicas_in_sync #(Note: 0.00007 with trainable=True to replicate graph in book)\n",
        "#LR_MIN = 0.00001\n",
        "#LR_RAMPUP_EPOCHS = 0\n",
        "#LR_SUSTAIN_EPOCHS = 0\n",
        "#LR_EXP_DECAY = .8\n",
        "\n",
        "\n",
        "GCS_PATH_SELECT = { # available image sizes\n",
        "    192: GCS_DS_PATH + '/tfrecords-jpeg-192x192',\n",
        "    224: GCS_DS_PATH + '/tfrecords-jpeg-224x224',\n",
        "    331: GCS_DS_PATH + '/tfrecords-jpeg-331x331',\n",
        "    512: GCS_DS_PATH + '/tfrecords-jpeg-512x512'\n",
        "}\n",
        "GCS_PATH = GCS_PATH_SELECT[IMAGE_SIZE[0]] + '/*.tfrec'\n",
        "# Returns a list of files that match the given pattern(s).\n",
        "filenames = tf.io.gfile.glob(GCS_PATH)\n",
        "validation_split = 0.19\n",
        "split = len(filenames) - int(len(filenames) * validation_split)\n",
        "TRAINING_FILENAMES = filenames[:split]\n",
        "VALIDATION_FILENAMES = filenames[split:]\n",
        "\n",
        "CLASSES = ['daisy', 'dandelion', 'roses', 'sunflowers', 'tulips']\n",
        "\n",
        "def lrfn(epoch):\n",
        "  if epoch < LR_RAMPUP_EPOCHS:\n",
        "    lr = (LR_MAX - LR_START) / LR_RAMPUP_EPOCHS * epoch + LR_START\n",
        "  elif epoch < LR_RAMPUP_EPOCHS + LR_SUSTAIN_EPOCHS:\n",
        "    lr = LR_MAX\n",
        "  else:\n",
        "    lr = (LR_MAX - LR_MIN) * LR_EXP_DECAY**(epoch - LR_RAMPUP_EPOCHS - LR_SUSTAIN_EPOCHS) + LR_MIN\n",
        "  return lr\n",
        "\n",
        "# tf.keras.callbacks.LearningRateScheduler(schedule, verbose=0) (Learning rate scheduler(學習率行程調度器))\n",
        "lr_callback = tf.keras.callbacks.LearningRateScheduler(lrfn, verbose=True)\n",
        "\n",
        "rng = [i for i in range(EPOCHS)]\n",
        "y = [lrfn(x) for x in rng]\n",
        "plt.plot(rng, y)\n",
        "print(\"Learning rate schedule: {:.3g} to {:.3g} to {:.3g}\".format(y[0], max(y), y[-1]))"
      ],
      "metadata": {
        "id": "BV4QnYU71Ftr",
        "colab": {
          "base_uri": "https://localhost:8080/",
          "height": 447
        },
        "outputId": "f5abc97c-cf43-4762-fa39-c4c708e5459c"
      },
      "execution_count": null,
      "outputs": [
        {
          "output_type": "stream",
          "name": "stdout",
          "text": [
            "Learning rate schedule: 1e-05 to 0.0001 to 2.21e-05\n"
          ]
        },
        {
          "output_type": "display_data",
          "data": {
            "text/plain": [
              "<Figure size 640x480 with 1 Axes>"
            ],
            "image/png": "[encoded data removed]"
          },
          "metadata": {}
        }
      ]
    },
    {
      "cell_type": "code",
      "source": [
        "# numpy and matplotlib defaults\n",
        "'''Set printing options.\n",
        "These options determine the way floating point numbers, arrays and other NumPy objects are displayed.\n",
        "https://numpy.org/doc/stable/reference/generated/numpy.set_printoptions.html '''\n",
        "np.set_printoptions(threshold=15, linewidth=80)\n",
        "\n",
        "def batch_to_numpy_images_and_labels(data):\n",
        "  images, labels = data\n",
        "  numpy_images = images.numpy()\n",
        "  numpy_labels = labels.numpy()\n",
        "  # expect int, str...... will be map to object\n",
        "  if numpy_labels.dtype == object: # binary string in this case, these are image ID strings\n",
        "    numpy_labels = [None for _ in enumerate(numpy_images)] # [None, None, None....]\n",
        "  # If no labels, only image IDs, return 'None' for labels (this is the case for test data)\n",
        "  return numpy_images, numpy_labels\n",
        "\n",
        "def title_from_label_and_target(label, correct_label):\n",
        "  if correct_label is None:\n",
        "    return CLASSES[label], True\n",
        "  correct = (label == correct_label)\n",
        "  # \\u2192: RIGHTWARDS ARROW\n",
        "  return \"{} [{}{}{}]\".format(CLASSES[label], 'OK' if correct else 'NO', u\"\\u2192\" if not correct else '',\n",
        "                 CLASSES[correct_label] if not correct else ''), correct\n",
        "\n",
        "# https://matplotlib.org/stable/api/_as_gen/matplotlib.pyplot.subplot.html\n",
        "# plt.subplot(221)\n",
        "# equivalent but more general\n",
        "# ax1 = plt.subplot(2, 2, 1), pad(default=6.0)\n",
        "def display_one_flower(image, title, subplot, red=False, titlesize=16):\n",
        "  plt.subplot(*subplot)\n",
        "  plt.axis('off')\n",
        "  plt.imshow(image)\n",
        "  if len(title) > 0:\n",
        "    plt.title(title, fontsize=int(titlesize) if not red else int(titlesize/1.2), color='red' if red else 'black', fontdict={'verticalalignment':'center'}, pad=int(titlesize/1.5))\n",
        "  return(subplot[0], subplot[1], subplot[2]+1)\n",
        "\n",
        "def display_batch_of_images(databatch, predictions=None):\n",
        "  \"\"\"This will work with\n",
        "  display_batch_of_images(images)\n",
        "  display_batch_of_images(images, predictions)\n",
        "  display_batch_of_images((images, labels))\n",
        "  display_batch_of_images((images, labels), predictions)\n",
        "  \"\"\"\n",
        "  # data\n",
        "  images, labels = batch_to_numpy_images_and_labels(databatch)\n",
        "  if labels is None:\n",
        "    labels = [None for _ in enumerate(images)]\n",
        "\n",
        "  # auto-squaring: this will drop data that doesn't fit into square or square-ish rectangle\n",
        "  rows = int(math.sqrt(len(images)))\n",
        "  cols = len(images)//rows\n",
        "\n",
        "  '''NEED TEST'''\n",
        "  # size and spacing\n",
        "  FIGSIZE = 13.0\n",
        "  SPACING = 0.1\n",
        "  subplot = (rows, cols, 1)\n",
        "  if rows < cols:\n",
        "    plt.figure(figsize=(FIGSIZE, FIGSIZE/rows*cols))\n",
        "  else:\n",
        "    plt.figure(figsize=(FIGSIZE/rows*cols, FIGSIZE))\n",
        "\n",
        "  # display\n",
        "  # use zip to map values ex.[(images[0], labels[0]), ....]. It is a iterable object.\n",
        "  for i, (image, label) in enumerate(zip(images[:rows*cols], labels[:rows*cols])):\n",
        "    title = '' if label is None else CLASSES[label]\n",
        "    correct = True\n",
        "    if predictions is not None:\n",
        "      title, correct = title_from_label_and_target(predictions[i], label)\n",
        "    dynamic_titlesize = FIGSIZE*SPACING/max(rows,cols)*40+3 # magic formula tested to work from 1x1 to 10x10 images\n",
        "    subplot = display_one_flower(image, title, subplot, not correct, titlesize=dynamic_titlesize)\n",
        "\n",
        "  # layout\n",
        "  # https://matplotlib.org/stable/tutorials/intermediate/tight_layout_guide.html automatic adjust subplot padding\n",
        "  # subplot_adjust: Adjust the subplot layout parameters.\n",
        "  # https://matplotlib.org/stable/api/_as_gen/matplotlib.pyplot.subplots_adjust.html\n",
        "  plt.tight_layout()\n",
        "  if label is None and predictions is None:\n",
        "    plt.subplots_adjust(wspace=0, hspace=0)\n",
        "  else:\n",
        "    plt.subplots_adjust(wspace=1, hspace=1)\n",
        "  plt.show()\n",
        "\n",
        "def display_confusion_matrix(cmat, score, precision, recall):\n",
        "  # plt.figsize(figsize=(15,15))\n",
        "  # Get the current Axes.\n",
        "  ax = plt.gca()\n",
        "  # Plot the values of a 2D matrix or array as color-coded image.\n",
        "  # cmap参数接受一个值（每个值代表一种配色方案），并将该值对应的颜色图分配给当前图窗。\n",
        "  ax.matshow(cmat, cmap='Reds')\n",
        "  # Set the xaxis' tick locations and optionally labels.\n",
        "  ax.set_xticks(range(len(CLASSES)))\n",
        "  ax.set_xtickslabels(CLASSES)\n",
        "  # If \"anchor\", then alignment occurs before rotation.\n",
        "  # https://matplotlib.org/stable/api/text_api.html#matplotlib.text.Text.set_rotation_mode\n",
        "  # https://matplotlib.org/stable/gallery/text_labels_and_annotations/demo_text_rotation_mode.html\n",
        "  plt.setp(ax.get_xticklabels(), rotation=45, ha=\"left\", rotation_mode=\"anchor\")\n",
        "  ax.set_yticks(range(len(CLASSES)))\n",
        "  ax.set_ylabels(CLASSES)\n",
        "  plt.setp(ax.get_yticklabels(), rotation=45, ha=\"right\", rotation_mode=\"anchor\")\n",
        "  # titlestring = \"\"\n",
        "  # if score is not None:\n",
        "  #   titlestring += 'f1 = {:.3f} '.format(score)\n",
        "  # if precision is not None:\n",
        "  #   titlestring += '\\nprecision = {:.3f} '.format(precision)\n",
        "  # if recall is not None:\n",
        "  #   titlestring += '\\nrecall = {:.3f} '.format(recall)\n",
        "  # # ax.text(x, y, s), x = x position, y = y position.\n",
        "  # if len(titlestring) > 0:\n",
        "  #   ax.text(101, 1, titlestring, fontdict={'fontsize' : 18, 'horizontalalignment' : 'right', 'verticalalignment' : 'top', 'color' : '#804040'})\n",
        "  plt.show()\n",
        "\n",
        "# https://matplotlib.org/stable/api/_as_gen/matplotlib.axes.Axes.legend.html\n",
        "def display_training_curves(training, validation, title, subplot, zoom_pcent=None, ylim=None):\n",
        "  # zoom_pcent: X autoscales y axis for the last X% of data points\n",
        "  if subplot%10==1: # set up the subplots on the first call\n",
        "    plt.subplots(figsize=(10,10), facecolor='#F0F0F0') # facecolor define background color\n",
        "    plt.tight_layout()\n",
        "  ax = plt.subplot(subplot)\n",
        "  ax.set_facecolor('F8F8F8')\n",
        "  ax.plot(training)\n",
        "  ax.plot(validation, '--')\n",
        "  ax.set_title('model '+ title)\n",
        "  ax.set_ylabel(title)\n",
        "  if zoom_pcent is not None:\n",
        "    ylen = len(training) * (100 - zoom_pcent) // 100\n",
        "    ymin = min([min(training[ylen:]), min(validation[ylen:])])\n",
        "    ymax = max([max(training[ylen:]), max(validation[ylen:])])\n",
        "    ax.set_ylim([ymin - (ymax-ymin) / 20, ymax + (ymax-ymin) / 20])\n",
        "  if ylim is not None:\n",
        "    ymin = ylim[0]\n",
        "    ymax = ylim[1]\n",
        "    ax.set_ylim([ymin - (ymax-ymin) / 20, ymax + (ymax-ymin) / 20])\n",
        "  ax.set_xlabel('epoch')\n",
        "  ax.legend(['train', 'valid.'])"
      ],
      "metadata": {
        "id": "bttNJJ8zujWB"
      },
      "execution_count": null,
      "outputs": []
    },
    {
      "cell_type": "code",
      "source": [
        "# channels: An optional int. Defaults to 0. Number of color channels for the decoded image.\n",
        "def decode_image(image_data):\n",
        "  image = tf.image.decode_jpeg(image_data, channels=3)# decoded image in unit8 format range[0, 255]\n",
        "  image = tf.reshape(image, [*IMAGE_SIZE, 3])\n",
        "  return image\n",
        "\n",
        "# tf.io.FixedLenFeature: Configuration for parsing a fixed-length input feature.\n",
        "# bytestring: which doesn't know if it's text or images or any other kind of data.\n",
        "def read_tfrecord(example):\n",
        "  TFREC_FORMAT = {\n",
        "    \"image\": tf.io.FixedLenFeature([], tf.string), # tf.string means bytestring\n",
        "    \"class\": tf.io.FixedLenFeature([], tf.int64) # shape [] means single element\n",
        "  }\n",
        "  example = tf.io.parse_single_example(example, TFREC_FORMAT)\n",
        "  image = decode_image(example['image'])\n",
        "  label = tf.cast(example['class'], tf.int32) # tf.cast: Casts a tensor to a new type.\n",
        "  return image, label # returns a dataset of (image, label) pairs\n",
        "\n",
        "# 使用 tf.data.Dataset.map 方法可将函数应用于 Dataset 的每个元素。\n",
        "# The options can be set by constructing an Options object and using the\n",
        "# tf.data.Dataset.with_options(options) transformation, which returns a dataset with the options set.\n",
        "def load_dataset(filenames, ordered=False):\n",
        "  # Read from TFRecords. For optimal performance, reading from multiple files at once and\n",
        "  # disregarding data order. Order does not matter since we will be shuffling the data anyway.\n",
        "\n",
        "  ignore_order = tf.data.Options()\n",
        "  if not ordered:\n",
        "    ignore_order.deterministic = False # disable order, increase speed\n",
        "\n",
        "  dataset = tf.data.TFRecordDataset(filenames, num_parallel_reads=AUTO) # automatically interleaves(交織) reads from multiple files\n",
        "  dataset = dataset.with_options(ignore_order) # uses data as soon as it streams(流) in, rather than in its original order.\n",
        "  dataset = dataset.map(read_tfrecord, num_parallel_calls=AUTO)\n",
        "  # return a dataset of (image, label) pairs\n",
        "  return dataset\n",
        "\n",
        "# Data augmentation is a set of techniques to artificially increase the amount of data by generating new data points from existing data.\n",
        "# This includes making small changes to data or using deep learning models to generate new data points.\n",
        "def data_augment(image, label):\n",
        "  # data augmentation. Thanks to the dataset.prefetch(AUTO) statement in the next funtion (below),\n",
        "  # this happens essentially for free on TPU. Data pipeline code is excuted on the \"CPU\" part\n",
        "  # of the TPU while the TPU itself is computing gradients(梯度).\n",
        "  image = tf.image.random_flip_left_right(image)\n",
        "  #image = tf.image.random_saturation(image, 0, 2)\n",
        "  return image, label\n",
        "\n",
        "def get_training_dataset():\n",
        "  dataset = load_dataset(TRAINING_FILENAMES)\n",
        "  dataset = dataset.map(data_augment, num_parallel_calls=AUTO)\n",
        "  # the training dataset must repeat for several epochs, 当repeat()参数为空时，意思是重复无数遍，永远不会有读取不到数据batch的情况。\n",
        "  # if epochs not finish yet repeat(x) times already finish will cause error.\n",
        "  dataset = dataset.repeat()\n",
        "  # This dataset fills a buffer with buffer_size elements, then randomly\n",
        "  # samples elements from this buffer, replacing the selected elements with new elements.\n",
        "  # 隨機打亂這個數據集的元素。\n",
        "  # 該數據集用buffer_size 元素填充緩衝區，然後從該緩衝區中隨機采樣元素，用新元素替換所選元素。對於完美的混洗，需要大於或等於數據集完整大小的緩衝區大小。\n",
        "  dataset = dataset.shuffle(2048)\n",
        "  dataset = dataset.batch(BATCH_SIZE)\n",
        "  dataset = dataset.prefetch(AUTO) # prefetch(buffer_size): prefetch next batch while training (autotune prefetch buffer size)\n",
        "  return dataset\n",
        "\n",
        "def get_validation_dataset(ordered=False):\n",
        "  dataset = load_dataset(VALIDATION_FILENAMES, ordered=ordered)\n",
        "  dataset = dataset.batch(BATCH_SIZE)\n",
        "  # dataset.cache(): 第一次迭代数据集时，其元素将缓存在指定文件或内存 后续迭代将使用缓存数据\n",
        "  # 迭代器对象从集合的第一个元素开始访问，直到所有的元素被访问完结束。迭代器只能往前不会后退。\n",
        "  dataset = dataset.cache()\n",
        "  dataset = dataset.prefetch(AUTO)\n",
        "  return dataset\n",
        "\n",
        "def count_data_items(filenames):\n",
        "  # the number of data items is written in the name of the .tfrec files, i.e. flowers00-230.tfrec = 230 data items\n",
        "  n = [int(re.compile(r\"-([0-9]*)\\.\").search(filename).group(1)) for filename in filenames]\n",
        "  return np.sum(n)\n",
        "\n",
        "# steps_per_epoch: 用于指定每个epoch所使用的迭代次数\n",
        "NUM_TRAINING_IMAGES = count_data_items(TRAINING_FILENAMES)\n",
        "NUM_VALIDATION_IMAGES = count_data_items(VALIDATION_FILENAMES)\n",
        "STEPS_PER_EPOCH = NUM_TRAINING_IMAGES // BATCH_SIZE\n",
        "VALIDATION_STEPS = -(-NUM_VALIDATION_IMAGES // BATCH_SIZE) # The \"-(-//)\" trick rounds up instead of down :-)\n",
        "print('Dataset: {} training images, {} validation images'.format(NUM_TRAINING_IMAGES, NUM_VALIDATION_IMAGES))"
      ],
      "metadata": {
        "id": "TYMMVXNTLz7l",
        "colab": {
          "base_uri": "https://localhost:8080/"
        },
        "outputId": "51fc4dc4-ef39-4f63-8ba8-459c438e90b5"
      },
      "execution_count": null,
      "outputs": [
        {
          "output_type": "stream",
          "name": "stdout",
          "text": [
            "Dataset: 2990 training images, 680 validation images\n"
          ]
        }
      ]
    },
    {
      "cell_type": "code",
      "source": [
        "# data dump\n",
        "print(\"Training data shapes:\")\n",
        "for image, label in get_training_dataset().take(3):\n",
        "  print(image.numpy().shape, label.numpy().shape)\n",
        "print(\"Training data label examples:\", label.numpy())"
      ],
      "metadata": {
        "id": "C7Q6Xd7uL3PF",
        "colab": {
          "base_uri": "https://localhost:8080/"
        },
        "outputId": "15bfb836-3b76-44b0-dddf-6d544b716f02"
      },
      "execution_count": null,
      "outputs": [
        {
          "output_type": "stream",
          "name": "stdout",
          "text": [
            "Training data shapes:\n",
            "(8, 224, 224, 3) (8,)\n",
            "(8, 224, 224, 3) (8,)\n",
            "(8, 224, 224, 3) (8,)\n",
            "Training data label examples: [3 4 3 4 0 0 3 0]\n"
          ]
        }
      ]
    },
    {
      "cell_type": "code",
      "source": [
        "# Peek at training data\n",
        "training_dataset = get_training_dataset()\n",
        "training_dataset = training_dataset.unbatch().batch(20)\n",
        "train_batch = iter(training_dataset)"
      ],
      "metadata": {
        "id": "-DoFj4ITL3b9"
      },
      "execution_count": null,
      "outputs": []
    },
    {
      "cell_type": "code",
      "source": [
        "# run this cell again for next set of images\n",
        "display_batch_of_images(next(train_batch))"
      ],
      "metadata": {
        "id": "Gae0-4PAL3pg",
        "colab": {
          "base_uri": "https://localhost:8080/",
          "height": 1000
        },
        "outputId": "76d3e483-c6dc-4229-e9bd-e2d3ca728c78"
      },
      "execution_count": null,
      "outputs": []
    },
    {
      "cell_type": "code",
      "source": [
        "# 首先，在该策略的作用域内创建模型和优化器。这样可以确保使用模型和优化器创建的任何变量都是镜像变量。\n",
        "# 将 Keras 模型、优化器和指标的创建移到 strategy.scope 中。模型的 call()、train_step() 和 test_step() 方法中的代码都将在加速器上分布和执行。\n",
        "\n",
        "# weights: String, one of None (random initialization), 'imagenet' (pre-training on ImageNet), or the path to the weights file to be loaded.\n",
        "# include_top: Boolean, whether to include the fully-connected layer at the top of the network. Defaults to True.\n",
        "with strategy.scope():\n",
        "  pretrained_model = tf.keras.applications.MobileNetV2(\n",
        "    weights='imagenet',\n",
        "    include_top=False,\n",
        "    input_shape=[*IMAGE_SIZE, 3])\n",
        "\n",
        "  pretrained_model.trainable = True # fine-tuning\n",
        "\n",
        "  #tf.keras.layers.GlobalAveragePooling2D(): 将特征转换成每个图像一个向量\n",
        "  model = tf.keras.Sequential([\n",
        "    # tf.keras.layers.Lambda: Wraps arbitrary expressions as a Layer object.\n",
        "    tf.keras.layers.Lambda( # convert image format from int [0,255] to the format expected by this model\n",
        "      # https://www.tensorflow.org/api_docs/python/tf/keras/applications/mobilenet/preprocess_input\n",
        "      lambda data: tf.keras.applications.mobilenet.preprocess_input(\n",
        "          tf.cast(data, tf.float32)), input_shape=[*IMAGE_SIZE, 3]),\n",
        "    pretrained_model,\n",
        "    tf.keras.layers.GlobalAveragePooling2D(),\n",
        "    tf.keras.layers.Dense(16, activation='relu', name='flower_dense'),\n",
        "    tf.keras.layers.Dense(len(CLASSES), activation='softmax', name='flower_prob')\n",
        "  ])\n",
        "\n",
        "  # https://www.tensorflow.org/api_docs/python/tf/keras/optimizers/schedules/PiecewiseConstantDecay\n",
        "  mult = 0.4 # for pretrained layers\n",
        "  step = tf.Variable(0, trainable=False)\n",
        "  boundaries = [1, 2, 3, 4, 5, 6, 7, 8, 9, 10, 11, 12, 13, 14, 15, 16]\n",
        "  values = [0.008, 0.016, 0.024, 0.032, 0.04, 0.06, 0.08, 0.1, 0.12, 0.14, 0.16, 0.2, 0.24, 0.28, 0.32, 0.36, 1]\n",
        "  schedule = tf.optimizers.schedules.PiecewiseConstantDecay(boundaries, values)\n",
        "  wd = schedule(step)\n",
        "  # mult_by_layer={\n",
        "  #   'flower_prob': 1.0,\n",
        "  #   'flower_dense': 1.0,\n",
        "  #   'block_1_': 0.02 * mult,\n",
        "  #   'block_2_': 0.04 * mult,\n",
        "  #   'block_3_': 0.06 * mult,\n",
        "  #   'block_4_': 0.08 * mult,\n",
        "  #   'block_5_': 0.1 * mult,\n",
        "  #   'block_6_': 0.15 * mult,\n",
        "  #   'block_7_': 0.2 * mult,\n",
        "  #   'block_8_': 0.25 * mult,\n",
        "  #   'block_9_': 0.3 * mult,\n",
        "  #   'block_10_': 0.35 * mult,\n",
        "  #   'block_11_': 0.4 * mult,\n",
        "  #   'block_12_': 0.5 * mult,\n",
        "  #   'block_13_': 0.6 * mult,\n",
        "  #   'block_14_': 0.7 * mult,\n",
        "  #   'block_15_': 0.8 * mult,\n",
        "  #   'block_16_': 0.9 * mult,\n",
        "  #   'conv': 0.5 * mult,\n",
        "  #   'Conv': 0.5 * mult\n",
        "  # }\n",
        "\n",
        "  optimizer2 = tfa.optimizers.AdamW(learning_rate=LR_MAX, weight_decay=wd)\n",
        "\n",
        "# https://keras.io/api/models/model_training_apis/\n",
        "# step_per_excution: The number of batches to run during each tf.function call.\n",
        "model.compile(\n",
        "  #optimizer='adam'\n",
        "  optimizer = optimizer2,\n",
        "  loss = 'sparse_categorical_crossentropy',\n",
        "  metrics=['sparse_categorical_accuracy'],\n",
        "  steps_per_execution=8\n",
        ")\n",
        "model.summary()"
      ],
      "metadata": {
        "id": "WlB2hZR6L35l",
        "colab": {
          "base_uri": "https://localhost:8080/"
        },
        "outputId": "53f89b6a-882d-4eac-c32e-5dea65767ed8"
      },
      "execution_count": null,
      "outputs": [
        {
          "output_type": "stream",
          "name": "stdout",
          "text": [
            "Model: \"sequential_3\"\n",
            "_________________________________________________________________\n",
            " Layer (type)                Output Shape              Param #   \n",
            "=================================================================\n",
            " lambda_3 (Lambda)           (None, 224, 224, 3)       0         \n",
            "                                                                 \n",
            " mobilenetv2_1.00_224 (Funct  (None, 7, 7, 1280)       2257984   \n",
            " ional)                                                          \n",
            "                                                                 \n",
            " global_average_pooling2d_3   (None, 1280)             0         \n",
            " (GlobalAveragePooling2D)                                        \n",
            "                                                                 \n",
            " flower_dense (Dense)        (None, 16)                20496     \n",
            "                                                                 \n",
            " flower_prob (Dense)         (None, 5)                 85        \n",
            "                                                                 \n",
            "=================================================================\n",
            "Total params: 2,278,565\n",
            "Trainable params: 2,244,453\n",
            "Non-trainable params: 34,112\n",
            "_________________________________________________________________\n"
          ]
        }
      ]
    },
    {
      "cell_type": "code",
      "source": [
        "# callbacks can use self-define function. ps.P65\n",
        "# Use lower LR to pretrained layers.\n",
        "history = model.fit(get_training_dataset(), steps_per_epoch=STEPS_PER_EPOCH, epochs=EPOCHS,\n",
        "           validation_data=get_validation_dataset(), validation_steps=VALIDATION_STEPS,\n",
        "           callbacks=[lr_callback])"
      ],
      "metadata": {
        "id": "2Lsztwr3L4UR"
      },
      "execution_count": null,
      "outputs": []
    },
    {
      "cell_type": "code",
      "source": [
        "display_training_curves(history.history['loss'], history.history['val_loss'], 'loss', 211, ylim=[0,1.7])\n",
        "display_training_curves(history.history['sparse_categorical_accuracy'], history.history['val_sparse_categorical_accuracy'], 'accuracy', 212)"
      ],
      "metadata": {
        "id": "r24eWYIEL4fT"
      },
      "execution_count": null,
      "outputs": []
    },
    {
      "cell_type": "code",
      "source": [
        "cmdataset = get_validation_dataset(ordered=True) # since we are splitting the dataset and iterating separately on images and labels, order matters.\n",
        "# map(lambda parameter: expression, iterable) ex. map(lambda x: x+1, list())\n",
        "images_ds = cmdataset.map(lambda image, label: image)\n",
        "labels_ds = cmdataset.map(lambda image, label: label).unbatch()\n",
        "cm_correct_labels = next(iter(labels_ds.batch(NUM_VALIDATION_IMAGES))).numpy() # get everything as one batch\n",
        "cm_probabilities = model.predict(images_ds, steps=VALIDATION_STEPS)\n",
        "cm_predictions = np.argmax(cm_probabilities, axis=-1)\n",
        "# cm_probabilities.shape = (all validation images, 5)\n",
        "print(\"Correct labels: \", cm_correct_labels.shape, cm_correct_labels)\n",
        "print(\"Predicted labels: \", cm_predictions.shape, cm_predictions)"
      ],
      "metadata": {
        "id": "duqT3k8TL4st"
      },
      "execution_count": null,
      "outputs": []
    },
    {
      "cell_type": "code",
      "source": [
        "cmat = confusion_matrix(cm_correct_labels, cm_predictions, labels=range(len(CLASSES)))\n",
        "# macro: Calculate metrics for each label, and find their unweighted mean.\n",
        "# In the multi-class and multi-label case, this is the average of the F1 score of each class with weighting(重要性，分量) depending on the average parameter.\n",
        "score = f1_score(cm_correct_labels, cm_predictions, labels=range(len(CLASSES)), average='macro')\n",
        "# The precision is intuitively the ability of the classifier not to label as positive a sample that is negative. tp / (tp + fp)\n",
        "precision = precision_score(cm_correct_labels, cm_predictions, labels=range(len(CLASSES)), average='macro')\n",
        "# The recall is intuitively the ability of the classifier to find all the positive samples. tp / (tp + fn), fn ex. corr: 0, pred: 1.\n",
        "recall = recall_score(cm_correct_labels, cm_predictions, labels=range(len(CLASSES)), average='macro')\n",
        "# .T: transpose matrix\n",
        "cmat = (cmat.T / cmat.sum(axis=1)).T # normalized\n",
        "cmat = display_confusion_matrix(cmat, score, precision, recall)\n",
        "print('f1 score: {:.3f}, precision: {:.3f}, recall: {:.3f}'.format(score, precision, recall))"
      ],
      "metadata": {
        "id": "8_ma3gH9L49Y"
      },
      "execution_count": null,
      "outputs": []
    },
    {
      "cell_type": "code",
      "source": [
        "# rebatch(N) is functionally equivalent to unbatch().batch(N), but is more efficient, performing one copy instead of two.\n",
        "dataset = get_validation_dataset()\n",
        "dataset = dataset.rebatch(20)\n",
        "batch = iter(dataset)"
      ],
      "metadata": {
        "id": "tOnpZLrxVD4d"
      },
      "execution_count": null,
      "outputs": []
    },
    {
      "cell_type": "code",
      "source": [
        "# run this cell again for next set image\n",
        "# 可以理解为 axis=-1 结果与 axis=（维度-1） 一致\n",
        "# if a array 2x3, axis=0 output (3,), axis=1 output (2,).\n",
        "images, labels = next(batch)\n",
        "probabilities = model.predict(images)\n",
        "# test probabilities array shape\n",
        "print(np.shape(probabilities))\n",
        "predictions = np.argmax(probabilities, axis=-1)\n",
        "display_batch_of_images((images, labels), predictions)"
      ],
      "metadata": {
        "id": "T22TDwvPVE7g"
      },
      "execution_count": null,
      "outputs": []
    },
    {
      "cell_type": "code",
      "source": [
        "# figsize example\n",
        "plt.figure(figsize=(1, 1))\n",
        "plt.plot()"
      ],
      "metadata": {
        "id": "NBA6BR2hJkpR"
      },
      "execution_count": null,
      "outputs": []
    },
    {
      "cell_type": "code",
      "source": [
        "def tr_argument(o=True):\n",
        "  print(o)\n",
        "\n",
        "i = tr_argument(not True)"
      ],
      "metadata": {
        "colab": {
          "base_uri": "https://localhost:8080/"
        },
        "id": "SemuPyiCV9xl",
        "outputId": "0d15f7ad-f28b-4960-f1c1-4b4980695ae4"
      },
      "execution_count": null,
      "outputs": [
        {
          "output_type": "stream",
          "name": "stdout",
          "text": [
            "False\n"
          ]
        }
      ]
    },
    {
      "cell_type": "code",
      "source": [
        "a = np.arange(6).reshape(2,3) + 10\n",
        "print(\"{}, {}, {}, {}\".format(a, np.argmax(a), np.argmax(a, axis=0), np.argmax(a, axis=-1)))"
      ],
      "metadata": {
        "colab": {
          "base_uri": "https://localhost:8080/"
        },
        "id": "pxtYPbx8YuYQ",
        "outputId": "0719a14e-68f9-4fba-8d7a-9797c6728db9"
      },
      "execution_count": null,
      "outputs": [
        {
          "output_type": "stream",
          "name": "stdout",
          "text": [
            "[[10 11 12]\n",
            " [13 14 15]], 5, [1 1 1], [2 2]\n"
          ]
        }
      ]
    },
    {
      "cell_type": "code",
      "source": [
        "ax = plt.subplot(121)\n",
        "ax.plot([1, 2, 3])\n",
        "ax.plot([5, 6, 7], '--')\n",
        "# Discouraged This call signature is discouraged, because the relation between\n",
        "# plot elements and labels is only implicit by their order and can easily be mixed up.\n",
        "ax.legend(['First line', 'Second line'])"
      ],
      "metadata": {
        "colab": {
          "base_uri": "https://localhost:8080/",
          "height": 447
        },
        "id": "mJtsQksR0qt3",
        "outputId": "e8e3a436-00ca-4014-e048-648f18886dd2"
      },
      "execution_count": null,
      "outputs": [
        {
          "output_type": "execute_result",
          "data": {
            "text/plain": [
              "<matplotlib.legend.Legend at 0x7f4fc0129ca0>"
            ]
          },
          "metadata": {},
          "execution_count": 27
        },
        {
          "output_type": "display_data",
          "data": {
            "text/plain": [
              "<Figure size 640x480 with 1 Axes>"
            ],
            "image/png": "[encoded data removed]"
          },
          "metadata": {}
        }
      ]
    },
    {
      "cell_type": "code",
      "source": [
        "a =[1, 2]\n",
        "b = [3, 4]\n",
        "c = (a, b)\n",
        "d = map(lambda a, b: b, a, b)\n",
        "print(a, list(d))"
      ],
      "metadata": {
        "colab": {
          "base_uri": "https://localhost:8080/"
        },
        "id": "ZeleJiWAj7QE",
        "outputId": "03f86db7-40ff-4bbf-ea30-d6fa040a50a5"
      },
      "execution_count": null,
      "outputs": [
        {
          "output_type": "stream",
          "name": "stdout",
          "text": [
            "[1, 2] [3, 4]\n"
          ]
        }
      ]
    },
    {
      "cell_type": "code",
      "source": [
        "y_true = [2, 1, 4, 1, 2, 0, 3]\n",
        "y_pred = [2, 0, 0, 1, 2, 1, 4]\n",
        "cmat = confusion_matrix(y_true, y_pred, labels=[0,1,2,3,4])\n",
        "print(cmat)"
      ],
      "metadata": {
        "colab": {
          "base_uri": "https://localhost:8080/"
        },
        "id": "Zuv3OUGChO1q",
        "outputId": "dcb88f81-5771-4c15-a9e6-aeca2540ce22"
      },
      "execution_count": null,
      "outputs": [
        {
          "output_type": "stream",
          "name": "stdout",
          "text": [
            "[[0 1 0 0 0]\n",
            " [1 1 0 0 0]\n",
            " [0 0 2 0 0]\n",
            " [0 0 0 0 1]\n",
            " [1 0 0 0 0]]\n"
          ]
        }
      ]
    },
    {
      "cell_type": "code",
      "source": [
        "# precision_score example\n",
        "y_true = [0, 1, 2, 0, 1, 2]\n",
        "y_pred = [0, 2, 1, 0, 0, 1]\n",
        "precision_score(y_true, y_pred, average='macro')\n",
        "precision_score(y_true, y_pred, average=None)\n",
        "y_pred = [0, 0, 0, 0, 0, 0]\n",
        "precision_score(y_true, y_pred, average=None, zero_division=0)"
      ],
      "metadata": {
        "colab": {
          "base_uri": "https://localhost:8080/"
        },
        "id": "BWljkY7steOe",
        "outputId": "22f0d9f2-0942-4868-cc50-7ba7074240dd"
      },
      "execution_count": null,
      "outputs": [
        {
          "output_type": "execute_result",
          "data": {
            "text/plain": [
              "array([0.33333333, 0.        , 0.        ])"
            ]
          },
          "metadata": {},
          "execution_count": 81
        }
      ]
    },
    {
      "cell_type": "code",
      "source": [
        "# recall_score example\n",
        "from sklearn.metrics import recall_score\n",
        "y_true = [0, 1, 2, 0, 1, 2]\n",
        "y_pred = [0, 2, 1, 0, 0, 1]\n",
        "recall_score(y_true, y_pred, average='macro',zero_division=0)\n",
        "recall_score(y_true, y_pred, average=None, zero_division=0)\n",
        "y_true = [0, 0, 0, 0, 0, 0]\n",
        "recall_score(y_true, y_pred, average=None, zero_division=0)"
      ],
      "metadata": {
        "colab": {
          "base_uri": "https://localhost:8080/"
        },
        "id": "J7XfdSC8thaC",
        "outputId": "c0d4a5f9-5be6-4f61-8988-4f23de15e3a2"
      },
      "execution_count": null,
      "outputs": [
        {
          "output_type": "execute_result",
          "data": {
            "text/plain": [
              "array([0.5, 0. , 0. ])"
            ]
          },
          "metadata": {},
          "execution_count": 78
        }
      ]
    },
    {
      "cell_type": "code",
      "source": [
        "# tf.saved_model.SaveOptions: Options for saving to SavedModel.\n",
        "# experimental_io_device: Tensorflow device to use to access the filesystem.\n",
        "# TensorFlow device (/job:localhost/replica:0/task:0/device:GPU:1 with 15128 MB memory)\n",
        "# https://medium.com/@dlspm/%E5%AE%89%E8%A3%9D-tensorflow-cuda-cudnn-%E5%B0%8D%E6%87%89%E7%89%88%E6%9C%AC-182006aa9768"
      ],
      "metadata": {
        "id": "uWi06ISOmuTz"
      },
      "execution_count": null,
      "outputs": []
    },
    {
      "cell_type": "code",
      "source": [
        "validation_dataset = get_validation_dataset(ordered=True)\n",
        "\n",
        "def load_model_and_predict_logits(model_name, dataset):\n",
        "  print(\"Loading model\", model_name)\n",
        "  with strategy.scope():\n",
        "    load_locally = tf.saved_model.LoadOptions(experimental_io_device='/job:localhost')\n",
        "    model = tf.keras.models.load_model(model_name, options=load_locally)\n",
        "\n",
        "  # output: The output(s) of the model, a tensor that originated from keras.Input objects or a combination of such tensors in a dict, list or tuple.\n",
        "  # 等於有兩個不同輸出的模型.\n",
        "  logit_model = tf.keras.Model(inputs=model.inputs,\n",
        "                  outputs=[model.get_layer('flower_logits').output, model.outputs])\n",
        "\n",
        "  print(\"Running model\", model_name)\n",
        "  logits, probabilities = logit_model.predict(dataset)\n",
        "  return logits, probabilities\n",
        "\n",
        "# get logits from all three models\n",
        "logits1, probabilities1 = load_model_and_predict_logits('trained_model1', validation_dataset)\n",
        "logits2, probabilities2 = load_model_and_predict_logits('trained_model2', validation_dataset)\n",
        "logits3, probabilities3 = load_model_and_predict_logits('trained_model3', validation_dataset)"
      ],
      "metadata": {
        "id": "L3bdMD3uIo9d"
      },
      "execution_count": null,
      "outputs": []
    },
    {
      "cell_type": "code",
      "source": [
        "# Packs the list of tensors in values into a tensor with rank one higher than each tensor in values,\n",
        "# by packing them along the axis dimension. Given a list of length N of tensors of shape (A, B, C);\n",
        "# if axis == 0 then the output tensor will have the shape (N, A, B, C). if axis == 1 then the output tensor will have the shape (A, N, B, C). Etc.\n",
        "import tensorflow as tf\n",
        "x = tf.constant([[1, 2], [2, 4]])\n",
        "y = tf.constant([[1, 2], [2, 4]])\n",
        "z = tf.constant([[1, 2], [2, 4]])\n",
        "tf.stack([x, y, z], axis=2)"
      ],
      "metadata": {
        "colab": {
          "base_uri": "https://localhost:8080/"
        },
        "id": "3KBbaQXfMGZt",
        "outputId": "e305ebb4-e54a-426d-8e08-291b4ea93281"
      },
      "execution_count": null,
      "outputs": [
        {
          "output_type": "execute_result",
          "data": {
            "text/plain": [
              "<tf.Tensor: shape=(2, 2, 3), dtype=int32, numpy=\n",
              "array([[[1, 1, 1],\n",
              "        [2, 2, 2]],\n",
              "\n",
              "       [[2, 2, 2],\n",
              "        [4, 4, 4]]], dtype=int32)>"
            ]
          },
          "metadata": {},
          "execution_count": 24
        }
      ]
    },
    {
      "cell_type": "code",
      "source": [
        "x = tf.constant([[1, 2, 3],\n",
        "          [2, 3, 4]])\n",
        "tf.nn.softmax(tf.cast(x, tf.float32), axis=1)"
      ],
      "metadata": {
        "id": "Wi9yy3NPeRuv"
      },
      "execution_count": null,
      "outputs": []
    },
    {
      "cell_type": "code",
      "source": [
        "x = tf.constant([[[1, 2, 3],\n",
        "          [2, 3, 4]],\n",
        "          [[4, 5, 6],\n",
        "          [7, 8, 9]]])\n",
        "tf.reduce_mean(x, axis=2)"
      ],
      "metadata": {
        "id": "vmE8KLOReTRF"
      },
      "execution_count": null,
      "outputs": []
    }
  ]
}